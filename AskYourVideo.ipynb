{
 "cells": [
  {
   "cell_type": "markdown",
   "metadata": {},
   "source": [
    "# Ask a youtube video"
   ]
  },
  {
   "cell_type": "markdown",
   "metadata": {},
   "source": [
    "### Install dependencies"
   ]
  },
  {
   "cell_type": "code",
   "execution_count": 90,
   "metadata": {},
   "outputs": [],
   "source": [
    "#!pip install langchain\n",
    "#!pip install langchain-community\n",
    "#!pip install python-dotenv\n",
    "#!pip install langchain-openai\n",
    "#!pip install weaviate-client\n",
    "#!pip install openai\n",
    "#!pip install youtube_transcript_api"
   ]
  },
  {
   "cell_type": "markdown",
   "metadata": {},
   "source": [
    "### Load .env variables"
   ]
  },
  {
   "cell_type": "code",
   "execution_count": 1,
   "metadata": {},
   "outputs": [],
   "source": [
    "from dotenv import load_dotenv\n",
    "import os\n",
    "\n",
    "load_dotenv()\n",
    "\n",
    "YOUR_OPENAI_KEY = os.getenv(\"YOUR_OPENAI_KEY\")\n",
    "YOUR_WEAVIATE_KEY = os.getenv(\"YOUR_WEAVIATE_KEY\")\n",
    "YOUR_WEAVIATE_URL = os.getenv(\"YOUR_WEAVIATE_URL\")"
   ]
  },
  {
   "cell_type": "markdown",
   "metadata": {},
   "source": [
    "# 1. Fetch the video information"
   ]
  },
  {
   "cell_type": "code",
   "execution_count": 2,
   "metadata": {},
   "outputs": [],
   "source": [
    "video_urls = [ \"https://youtu.be/9oRDksmH0zM?si=-DSwzjApEfJnPM4y\", \"https://youtu.be/oSSEcftwRr0?si=yB4xnPMklA6tz4oZ\" ]\n",
    "from youtube_transcript_api import YouTubeTranscriptApi\n",
    "\n",
    "def get_video_id(youtube_link: str) -> str:\n",
    "\n",
    "    video_id = youtube_link.split(\"v=\")\n",
    "    if len(video_id) > 1:\n",
    "        return video_id[1]\n",
    "    video_id = youtube_link.split(\"youtu.be/\")\n",
    "    if len(video_id) > 1:\n",
    "        return video_id[1]\n",
    "    \n",
    "    raise Exception(\"Unable to find video id\")\n",
    "\n",
    "def fetch_transcript(youtube_link : str) -> str:\n",
    "\n",
    "    video_id = get_video_id(youtube_link)\n",
    "\n",
    "    transcript = YouTubeTranscriptApi.get_transcript(video_id, languages=['en','fr'])\n",
    "\n",
    "    content = \"\"\n",
    "    for line in transcript:\n",
    "        content += line['text'] + \" \"\n",
    "\n",
    "    return content\n",
    "\n",
    "video_transcripts = [ fetch_transcript(video_url) for video_url in video_urls ]"
   ]
  },
  {
   "cell_type": "markdown",
   "metadata": {},
   "source": [
    "# 2. Split transcript into sentences"
   ]
  },
  {
   "cell_type": "code",
   "execution_count": 3,
   "metadata": {},
   "outputs": [],
   "source": [
    "from langchain.text_splitter import RecursiveCharacterTextSplitter\n",
    "\n",
    "text_splitter = RecursiveCharacterTextSplitter(chunk_size=1000, chunk_overlap=100)\n",
    "split_transcripts = [ text_splitter.split_text(transcript) for transcript in video_transcripts ]"
   ]
  },
  {
   "cell_type": "markdown",
   "metadata": {},
   "source": [
    "# 3. Vector DB Storage"
   ]
  },
  {
   "cell_type": "code",
   "execution_count": 12,
   "metadata": {},
   "outputs": [
    {
     "name": "stdout",
     "output_type": "stream",
     "text": [
      "Client is ready:  True\n"
     ]
    }
   ],
   "source": [
    "import weaviate\n",
    "import weaviate.classes as wvc\n",
    "from langchain.vectorstores import Weaviate\n",
    "\n",
    "client = weaviate.connect_to_weaviate_cloud(\n",
    "    cluster_url=YOUR_WEAVIATE_URL,\n",
    "    auth_credentials=weaviate.auth.AuthApiKey(api_key=YOUR_WEAVIATE_KEY),  # Replace with your Weaviate instance API key\n",
    "    headers = {\n",
    "        \"X-OpenAI-Api-Key\": YOUR_OPENAI_KEY # Replace with your inference API key\n",
    "    }\n",
    ")\n",
    "\n",
    "print(\"Client is ready: \", client.is_ready())\n",
    "\n",
    "client.collections.delete_all()\n",
    "\n",
    "try:\n",
    "    # Create the Transcript collection\n",
    "    collection = client.collections.create(\n",
    "        name=\"Transcript\",\n",
    "        vectorizer_config=wvc.config.Configure.Vectorizer.text2vec_openai(\n",
    "            model=\"text-embedding-3-small\"  # Specify the model\n",
    "        ),\n",
    "        properties=[\n",
    "            wvc.config.Property(\n",
    "                name=\"text\",\n",
    "                data_type=wvc.config.DataType.TEXT,  # Data type for the property\n",
    "                description=\"Text of the transcript\"  # Description of the property\n",
    "            ),\n",
    "        ]\n",
    "    )\n",
    "finally:\n",
    "    client.close()\n",
    "\n",
    "client = weaviate.Client(url=YOUR_WEAVIATE_URL, auth_client_secret=weaviate.auth.AuthApiKey(YOUR_WEAVIATE_KEY), additional_headers={\"X-OpenAI-Api-Key\": YOUR_OPENAI_KEY})\n",
    "vectorstore = Weaviate(client, \"Transcript\", \"text\", attributes=[\"source\"])\n"
   ]
  },
  {
   "cell_type": "code",
   "execution_count": 17,
   "metadata": {},
   "outputs": [
    {
     "data": {
      "text/plain": [
       "['0668dd12-6d01-47de-9d1a-9dd422fa7dca',\n",
       " 'efe99d63-67f6-4018-b954-e4e9c1ce41d9',\n",
       " '028e71d9-4445-4606-bb02-9e1641eb4cef',\n",
       " '06f15409-49b0-47a2-b35c-57e1d21370c8',\n",
       " '0ec027e8-224b-45b9-8b80-14c7ebcc4731',\n",
       " '1e7a9351-cf7e-48c3-9619-d3214ec08ac1',\n",
       " '4ed00658-67a7-4191-9dc9-d2d95aad7ee7',\n",
       " '466f9697-f4ca-4a31-958e-4f66661c2112',\n",
       " '84224f08-1f37-4079-ae81-a318baee84b0',\n",
       " '7d9350fc-f181-4f10-83c1-c3f2b5d0a473',\n",
       " '58a41452-dadc-4502-a1fe-c2aedb33a8cc',\n",
       " '067be0e9-98da-42d5-8b7e-7169fb759c8f',\n",
       " 'de6b863e-a3fa-4b34-a32f-d4b12330582a',\n",
       " '229f4a8e-8e0d-49ef-970e-50c481170b6a',\n",
       " '8b5bc4eb-ad0c-4d37-8cbf-5579fb95aa27',\n",
       " 'a678ca59-00a7-4a58-8f6a-026f25c1e14c',\n",
       " '80467bab-550a-4fdc-b609-78889ab038ff',\n",
       " '7d2f10dd-cde0-4ba6-a58e-0570de2a4a73',\n",
       " '16d78215-4eb3-43b1-8cb1-92f2ff122547',\n",
       " '14eb69a3-719d-4ddf-9b0f-1307537cb865',\n",
       " '4af8e259-8856-4a43-a622-88ac96cad412',\n",
       " 'd5b29843-24b1-4fd2-b864-7c18ec04c57a',\n",
       " '07cd733d-072d-4921-9302-276beb321411',\n",
       " '370168d6-1fa0-47dd-b0e8-daa0bdda2e9f',\n",
       " '2dc95613-4af5-4f1b-80e0-8ed4e5d6fbf8',\n",
       " '8e166da6-5c54-44fe-b72d-c1634eed989a',\n",
       " '6be961ae-cc57-4424-ac22-5abd76031994',\n",
       " 'b044f024-567e-4254-9a5c-fe605094c163',\n",
       " '6266a7b1-bd9c-413f-a50f-17335153cb1f',\n",
       " '16fa653e-7546-4677-9bf1-a2849668742a',\n",
       " 'c5abaa4e-e3c9-464b-b443-3565881935e8',\n",
       " '99ed4452-647c-4fb1-be78-ce9e42526044',\n",
       " '701f0d1f-5dc3-43d4-8624-effb26cf4978',\n",
       " '0f875bb0-2c94-4cc3-a999-4abadb900476',\n",
       " 'd7c1c627-f155-4196-9ce7-9fedcb2b6586',\n",
       " '988fdc68-fad7-4389-914a-fb0d9f6abdfc',\n",
       " 'e8742ebb-62e9-4a2f-88bf-a26405bb685a',\n",
       " '6e90c527-af82-4a41-9818-79c43ae97092',\n",
       " 'df86b8c7-e981-42d2-9185-884c832bf876',\n",
       " '967e7190-a6d5-45f4-9db2-63b892ab7f3c',\n",
       " '034abcee-508b-4cd2-b97f-151c82e1c4a1',\n",
       " '5f5f0063-b103-467a-89cd-72f44177f6a5',\n",
       " '0b116328-b029-480b-8348-7ded611da707']"
      ]
     },
     "execution_count": 17,
     "metadata": {},
     "output_type": "execute_result"
    }
   ],
   "source": [
    "# Load text into the vector store\n",
    "\n",
    "text_meta_pair = []\n",
    "for transcript, video_url in zip(split_transcripts, video_urls):\n",
    "    for chunk in transcript:\n",
    "        text_meta_pair.append((chunk, {\"source\": video_url}))\n",
    "texts, metas = zip(*text_meta_pair)\n",
    "vectorstore.add_texts(texts, metas)"
   ]
  },
  {
   "cell_type": "markdown",
   "metadata": {},
   "source": [
    "# 4. Similarity Search"
   ]
  },
  {
   "cell_type": "code",
   "execution_count": 22,
   "metadata": {},
   "outputs": [
    {
     "data": {
      "text/plain": [
       "[Document(page_content=\"on y est Apple franchit enfin le cap de liia et comment le faire d'une meilleure façon que sa proprieré le mot Ia en anglais ai Apple intelligence ouais ils sont extrêmement fort côté marketing Apple ils l'ont fait maintenant liya ça veut dire Apple intelligence ou intelligence Apple ça c'est fort bon en même temps faut dire qu'Apple était quand même à la ramasse sur l'intelligence artificielle depuis des années on le sait Google chat GPT Microsoft et beaucoup d'autres compagnies et sociétés américaines voire mondial si était mis avac pris le lead Apple pourtant en 2011 avait introduit finalement un peu ce qui est devenu l'intelligence artificielle avec un assistant vocal c'était Siri avec l'iPhone 4S un assistant vocal qui était en avance sur son temps en 2011 et qui a été complètement délaissé jusqu'à devenir aujourd'hui peut-être le pire assistant vocal qui existe aujourd'hui parce que tout simplement bah il permet de pas faire grandchose il comprend pas grand-chose et surtout quand\", metadata={'source': 'https://youtu.be/oSSEcftwRr0?si=yB4xnPMklA6tz4oZ'}),\n",
       " Document(page_content=\"de base quand on parle d'intelligence artificielle on pense souvent à des choses qu'on ne comprend pas et dont la vie privée est un peu mise à l'épreuve parce que toutes les données vont être transmises à n'importe qui n'importe où n'importe quand Apple a voulu complètement cassé en fait ces pensées qu'on pouvait avoir et directement dit qu'en fait tout ce que vous allez faire avec Apple intelligence il y a vous et vous seuls qui aurez accès à ça Apple n'aura aucune information et si vous avez besoin de faire des tâches un peu plus gourmandes et qui demande d'aller sur internet SZ aussi en mode privé et vous pourrez par-ci par là piocher par exemple dans chat GPT et ça on va en reparler Apple a la chance aujourd'hui de pouvoir faire à la fois le hardware et le software et en fait ils ont réussi à combiner les deux et faire en sorte que leur Apple intelligence soit exactement dans toutes les applications partout à la fois c'est-à-dire que vous allez pouvoir l'avir mais vous le verrez\", metadata={'source': 'https://youtu.be/oSSEcftwRr0?si=yB4xnPMklA6tz4oZ'}),\n",
       " Document(page_content=\"atteigne sa valeur réelle mais vous voyez qu'en contrepartie les courbes sont beaucoup plus volatiles et instables car le hasard d'une bonne ou d'une mauvaise série fait bouger pas mal les notations en pratique la Fédération d'échec utilise un facteur cas plus élevé en début de carrière he 40 pour les débutants de manière à ce que leur notation reflète leur progression mais à haut niveau le coefficient diminue et n'est que de 10 chez les grands maîtres de façon à stabiliser un peu les classements les programmes informatique d'échec possèd eux aussi un classement ho puisqu'on peut les faire s'affronter entre eux mais aussi les confronter avec des humains pour fournir des points de comparaison actuellement les meilleurs d'entre eux comme stockfish possèdent des valeurs ho sur supérieur à 3500 alors ça n'est pas évident à interpréter puisque c'est bien plus élevé que les humains mais ça reflète l'idée qu'un grand maître international n'aurait en moyenne qu'une chance sur 100 de battre un\", metadata={'source': 'https://youtu.be/9oRDksmH0zM?si=-DSwzjApEfJnPM4y'}),\n",
       " Document(page_content=\"de note à chaque joueur censé refléter son niveau intrinsèque et qui permet donc de comparer les chances de victoir respective de deux joueurs même s'ils ne se sont encore jamais rencontrés aujourd'hui on va donc essayer de comprendre ce système de notation h l'O et pourquoi il est utilisé maintenant sous différentes formes aux échecs bien sûr mais aussi dans le football le eSport comme à League of Legend ou encore sur tinder tout d'abord ho e lo ça n'est pas un acronyme he contrairement à ce qu'on pourrait pas pensé c'est le nom du physicien et joueur d'échec harpad hello qui l'a développé dans les années 1960 vous savez peut-être qu'en français on parle souvent de classement ho mais il faut réaliser que c'est un peu trompeur comme dénomination le but du système ho n'est pas juste de classer des joueurs he 1er 2e et cetera mais de les évaluer avec un score censé capturer leur niveau intrinsèque c'est donc plus qu'un classement he c'est un système de notation en anglais on dit\", metadata={'source': 'https://youtu.be/9oRDksmH0zM?si=-DSwzjApEfJnPM4y'})]"
      ]
     },
     "execution_count": 22,
     "metadata": {},
     "output_type": "execute_result"
    }
   ],
   "source": [
    "query = \"Réponds en français. Donne moi un point commmun entre Apple Intelligence et le ELO aux échecs. \"\n",
    "\n",
    "# retrieve t\"ext related to the query\n",
    "vect = vectorstore.similarity_search(query, top_k=20)\n",
    "vect"
   ]
  },
  {
   "cell_type": "markdown",
   "metadata": {},
   "source": [
    "# 5. My Custom Chatbot"
   ]
  },
  {
   "cell_type": "code",
   "execution_count": 24,
   "metadata": {},
   "outputs": [
    {
     "name": "stderr",
     "output_type": "stream",
     "text": [
      "/home/dup/Documents/Pro/InsideBoardAI/AskYourVideo/.venv/lib/python3.12/site-packages/pydantic/main.py:1070: PydanticDeprecatedSince20: The `dict` method is deprecated; use `model_dump` instead. Deprecated in Pydantic V2.0 to be removed in V3.0. See Pydantic V2 Migration Guide at https://errors.pydantic.dev/2.7/migration/\n",
      "  warnings.warn('The `dict` method is deprecated; use `model_dump` instead.', category=PydanticDeprecatedSince20)\n"
     ]
    },
    {
     "data": {
      "text/plain": [
       "\" Un point commun entre Apple Intelligence et le ELO aux échecs est qu'ils sont tous les deux des systèmes de notation qui évaluent le niveau intrinsèque des joueurs ou des utilisateurs.\""
      ]
     },
     "execution_count": 24,
     "metadata": {},
     "output_type": "execute_result"
    }
   ],
   "source": [
    "from langchain.chains.question_answering import load_qa_chain\n",
    "from langchain.llms import OpenAI\n",
    "\n",
    "# define chain\n",
    "chain = load_qa_chain(\n",
    "                                            # Initially, temperature param was 0 but 0.1 is better\n",
    "    OpenAI(openai_api_key = YOUR_OPENAI_KEY, temperature=0.1),\n",
    "    chain_type=\"stuff\"\n",
    ")\n",
    "\n",
    "# create answer\n",
    "chain.run(input_documents=vect, question=query)"
   ]
  },
  {
   "cell_type": "code",
   "execution_count": null,
   "metadata": {},
   "outputs": [],
   "source": []
  }
 ],
 "metadata": {
  "kernelspec": {
   "display_name": "envAskYourVideo",
   "language": "python",
   "name": ".venv"
  },
  "language_info": {
   "codemirror_mode": {
    "name": "ipython",
    "version": 3
   },
   "file_extension": ".py",
   "mimetype": "text/x-python",
   "name": "python",
   "nbconvert_exporter": "python",
   "pygments_lexer": "ipython3",
   "version": "3.12.3"
  }
 },
 "nbformat": 4,
 "nbformat_minor": 4
}
