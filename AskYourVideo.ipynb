{
 "cells": [
  {
   "cell_type": "markdown",
   "metadata": {},
   "source": [
    "# Ask a youtube video"
   ]
  },
  {
   "cell_type": "markdown",
   "metadata": {},
   "source": [
    "### Install dependencies"
   ]
  },
  {
   "cell_type": "code",
   "execution_count": 90,
   "metadata": {},
   "outputs": [],
   "source": [
    "#!pip install langchain\n",
    "#!pip install langchain-community\n",
    "#!pip install python-dotenv\n",
    "#!pip install langchain-openai\n",
    "#!pip install weaviate-client\n",
    "#!pip install openai\n",
    "#!pip install youtube_transcript_api"
   ]
  },
  {
   "cell_type": "markdown",
   "metadata": {},
   "source": [
    "### Load .env variables"
   ]
  },
  {
   "cell_type": "code",
   "execution_count": 1,
   "metadata": {},
   "outputs": [],
   "source": [
    "from dotenv import load_dotenv\n",
    "import os\n",
    "\n",
    "load_dotenv()\n",
    "\n",
    "YOUR_OPENAI_KEY = os.getenv(\"YOUR_OPENAI_KEY\")\n",
    "YOUR_WEAVIATE_KEY = os.getenv(\"YOUR_WEAVIATE_KEY\")\n",
    "YOUR_WEAVIATE_URL = os.getenv(\"YOUR_WEAVIATE_URL\")"
   ]
  },
  {
   "cell_type": "markdown",
   "metadata": {},
   "source": [
    "# 1. Fetch the video information"
   ]
  },
  {
   "cell_type": "code",
   "execution_count": 3,
   "metadata": {},
   "outputs": [],
   "source": [
    "from youtube_transcript_api import YouTubeTranscriptApi\n",
    "\n",
    "\"\"\"\n",
    "This function extracts the video id from the youtube link\n",
    ":param youtube_link: the youtube link\n",
    ":return: the video id\n",
    "\"\"\"\n",
    "def get_video_id(youtube_link: str) -> str:\n",
    "    video_id = youtube_link.split(\"v=\")\n",
    "    if len(video_id) > 1:\n",
    "        return video_id[1]\n",
    "    video_id = youtube_link.split(\"youtu.be/\")\n",
    "    if len(video_id) > 1:\n",
    "        return video_id[1]\n",
    "    \n",
    "    return youtube_link.split(\"/\")[-1]\n",
    "\n",
    "\"\"\"\n",
    "This function fetches the transcript of a youtube video\n",
    ":param youtube_link: the youtube link\n",
    ":return: the transcript of the video\n",
    "\"\"\"\n",
    "def fetch_transcript(youtube_link : str) -> str:\n",
    "\n",
    "    video_id = get_video_id(youtube_link)\n",
    "\n",
    "    # I could have added even more languages\n",
    "    transcript = YouTubeTranscriptApi.get_transcript(video_id, languages=['en','fr'])\n",
    "\n",
    "    return \" \".join([line['text'] for line in transcript])"
   ]
  },
  {
   "cell_type": "code",
   "execution_count": 9,
   "metadata": {},
   "outputs": [],
   "source": [
    "video_urls = [  \"https://youtube.com/shorts/cFp4bQTtb1M?si=y_yC79dUkNveBndR\",\n",
    "              \"https://youtube.com/shorts/3JOTPH3izlA?si=KXNBMNZ-wz6A7Ktd\",\n",
    "               \"https://youtube.com/shorts/OLCLfJJXFPM?si=8tVYvvafQ-_77ZOK\" ] #\"https://www.youtube.com/live/RXeOiIDNNek?si=DjyZK7jnuCYbbXg3\" ] # WWDC 2024 Keynote]\n",
    "\n",
    "video_transcripts = [ fetch_transcript(video_url) for video_url in video_urls ]"
   ]
  },
  {
   "cell_type": "code",
   "execution_count": 10,
   "metadata": {},
   "outputs": [
    {
     "data": {
      "text/plain": [
       "[\"quelles sont les marques de voitures qui ont le plus d'accidents en France en moyenne un accident survient tous les 160000 km dans l'Hexagone et la société car vertical spécialisée dans le traitement des données et des historiques automobiles a présenté les résultats de son étude sur les modèles de véhicules les plus accidentés dans l'Hexagone l'an dernier alors perso avant de lire le classement j'avais déjà ma petite idée de quelle marque avaient les conducteurs les plus débiles mais je te laisse juger tout en bas du classement Mazda Fiat et Renault sont des marques très peu impliquées dans des accidents en 13e position se trouve alpha Romeo juste après Toyota eux à la 12e place le géant Mercedes et lui 11e je reconnais ça m'a un peu surpris enfin le top 10 est le suivant Porsche est 10e seat 9e Peugeot 8e Opel 7e Volkswagen 6e Land Rover et Citroën sont 5 et 4e quant au top 3 donc les marques qui se retrouvent dans le plus d'accidents en France il est composé d'Audi qui est vraiment étonné hein Ford est à la seconde position et sans grande surprise pour ma part les voitures qui font le plus n'importe quoi sur les routes en France sont les BMW\",\n",
       " \"dans ces clips j pop généralement des bouteilles de cristal une marque de champagne française ça lui donne un petit côté conoissur il boit pas du mette comme tous les autres bléros sauf qu'à force de les mettre en avant cristal c'est devenu une marque reconnue et consommée massivement aux US en juin 2006 on demande à Frédéric rouso le patron de cristal ce qu' pense de ce public de rappeur il répond alors on s'en passerait bien mais on peut pas les empêcher d'en acheter SHW est outré par tant de racisme et d'ingratitude SH investit alors 200 millions de dollars dans une marque de champagne française totalement inconnue Armand de Brignac il crée alors sa propre bouteille la ace of spad et dans le clip de Shomi what you got il refuse une bouteille de cristal pour qu'on lui apporte à la place une magnifique ace of spates pour ceux qui se demandent le Ace of spates S vendu 300 € la bouteille c'est noté 4,4 sur viivino ce qui en fait un champagne plutôt qualitatif mais clairement overpriced mais comme c'est la bouteille de Jay ça marche depuis que JayZ s'est entiché de l'élixir\",\n",
       " \"un puzzle d'attant de 1901 vient tout juste d'être résolu il s'agit du fameux puzzle de la mitre de samloy prenez cette forme-là comment la découper en un minimum de morceaux pour reconstituer un carré avec les pièces en 1901 samloy propose SEP solutions en quatre pièces ça a l'air de marcher au premier coup d'œil mais cette solution elle est fausse la figure obtenue n'est pas un vrai carré mais un rectangle c'estes côtés mesurent 6/7e et 7/8e 10 ans plus tard un autre créateur de puzzle Henry dy propose cette solution qui SEP fois marche mais qui ise une pièce de plus et en 1917 dudney affirme qu'il ne croit pas en l'existence d'une solution à quatre pièces le problème en reste là pendant plus d'un siècle et avantti le 28 mai 2024 le créateur de puzzle VESA timonon balance ceci sur les réseaux sociaux c'est une solution en quatre pièces et cette fois ça marche elle est bel et bien exacte 123 ans après avoir été posé le problème de la mitre de samlooy a enfin été résolu\"]"
      ]
     },
     "execution_count": 10,
     "metadata": {},
     "output_type": "execute_result"
    }
   ],
   "source": [
    "video_transcripts"
   ]
  },
  {
   "cell_type": "markdown",
   "metadata": {},
   "source": [
    "# 2. Split transcript into sentences"
   ]
  },
  {
   "cell_type": "code",
   "execution_count": 11,
   "metadata": {},
   "outputs": [],
   "source": [
    "from langchain.text_splitter import RecursiveCharacterTextSplitter\n",
    "\n",
    "# Split the text into chunks of 800 characters with an overlap of 100 characters\n",
    "text_splitter = RecursiveCharacterTextSplitter(chunk_size=800, chunk_overlap=100)\n",
    "split_transcripts = [ text_splitter.split_text(transcript) for transcript in video_transcripts ]"
   ]
  },
  {
   "cell_type": "markdown",
   "metadata": {},
   "source": [
    "# 3. Vector DB Storage"
   ]
  },
  {
   "cell_type": "code",
   "execution_count": 12,
   "metadata": {},
   "outputs": [
    {
     "name": "stdout",
     "output_type": "stream",
     "text": [
      "Client is ready:  True\n"
     ]
    },
    {
     "name": "stderr",
     "output_type": "stream",
     "text": [
      "/home/dup/Documents/Pro/InsideBoardAI/AskYourVideo/.venv/lib/python3.12/site-packages/weaviate/warnings.py:162: DeprecationWarning: Dep016: Python client v3 `weaviate.Client(...)` connections and methods are deprecated. Update\n",
      "            your code to use Python client v4 `weaviate.WeaviateClient` connections and methods.\n",
      "\n",
      "            For Python Client v4 usage, see: https://weaviate.io/developers/weaviate/client-libraries/python\n",
      "            For code migration, see: https://weaviate.io/developers/weaviate/client-libraries/python/v3_v4_migration\n",
      "            \n",
      "  warnings.warn(\n"
     ]
    }
   ],
   "source": [
    "import weaviate\n",
    "import weaviate.classes as wvc\n",
    "from langchain.vectorstores import Weaviate\n",
    "\n",
    "# Connect to Weaviate\n",
    "client = weaviate.connect_to_weaviate_cloud(\n",
    "    cluster_url=YOUR_WEAVIATE_URL,\n",
    "    auth_credentials=weaviate.auth.AuthApiKey(api_key=YOUR_WEAVIATE_KEY),\n",
    "    headers = {\n",
    "        \"X-OpenAI-Api-Key\": YOUR_OPENAI_KEY\n",
    "    }\n",
    ")\n",
    "\n",
    "print(\"Client is ready: \", client.is_ready())\n",
    "\n",
    "# Deletes previously created collections\n",
    "client.collections.delete_all()\n",
    "\n",
    "try:\n",
    "    # Create the Transcript collection\n",
    "    collection = client.collections.create(\n",
    "        name=\"Transcript\",\n",
    "        vectorizer_config=wvc.config.Configure.Vectorizer.text2vec_openai(\n",
    "            model=\"text-embedding-3-small\"  # Specify the model\n",
    "        ),\n",
    "        properties=[\n",
    "            wvc.config.Property(\n",
    "                name=\"text\",\n",
    "                data_type=wvc.config.DataType.TEXT,  # Data type for the property\n",
    "                description=\"Text of the transcript\"  # Description of the property\n",
    "            ),\n",
    "        ]\n",
    "    )\n",
    "finally:\n",
    "    client.close()\n",
    "\n",
    "# Deprecated way to store using vectorstore\n",
    "client = weaviate.Client(url=YOUR_WEAVIATE_URL, auth_client_secret=weaviate.auth.AuthApiKey(YOUR_WEAVIATE_KEY), additional_headers={\"X-OpenAI-Api-Key\": YOUR_OPENAI_KEY})\n",
    "vectorstore = Weaviate(client, \"Transcript\", \"text\", attributes=[\"source\"])"
   ]
  },
  {
   "cell_type": "code",
   "execution_count": 13,
   "metadata": {},
   "outputs": [
    {
     "data": {
      "text/plain": [
       "['8ad6b28c-00ae-401f-b5a2-3976ca58e26c',\n",
       " '3c527bc5-91d5-4d1c-b141-20d656cdae05',\n",
       " '72f37811-e77e-40d2-861b-2eac6ad77580',\n",
       " '28a76988-122a-41f4-a272-2b56edde5c43',\n",
       " '68891ac2-3fe9-4b92-bdd9-84ca9f2c34ae',\n",
       " '6788549e-2c47-4910-b2b4-30224fa61567']"
      ]
     },
     "execution_count": 13,
     "metadata": {},
     "output_type": "execute_result"
    }
   ],
   "source": [
    "# Load text into the vector store\n",
    "\n",
    "text_meta_pair = []\n",
    "for transcript, video_url in zip(split_transcripts, video_urls):\n",
    "    for chunk in transcript:\n",
    "        text_meta_pair.append((chunk, {\"source\": video_url}))\n",
    "texts, metas = zip(*text_meta_pair)\n",
    "vectorstore.add_texts(texts, metas)"
   ]
  },
  {
   "cell_type": "markdown",
   "metadata": {},
   "source": [
    "# 4. Similarity Search"
   ]
  },
  {
   "cell_type": "code",
   "execution_count": 19,
   "metadata": {},
   "outputs": [
    {
     "data": {
      "text/plain": [
       "[Document(page_content=\"quelles sont les marques de voitures qui ont le plus d'accidents en France en moyenne un accident survient tous les 160000 km dans l'Hexagone et la société car vertical spécialisée dans le traitement des données et des historiques automobiles a présenté les résultats de son étude sur les modèles de véhicules les plus accidentés dans l'Hexagone l'an dernier alors perso avant de lire le classement j'avais déjà ma petite idée de quelle marque avaient les conducteurs les plus débiles mais je te laisse juger tout en bas du classement Mazda Fiat et Renault sont des marques très peu impliquées dans des accidents en 13e position se trouve alpha Romeo juste après Toyota eux à la 12e place le géant Mercedes et lui 11e je reconnais ça m'a un peu surpris enfin le top 10 est le suivant Porsche est 10e\", metadata={'source': 'https://youtube.com/shorts/cFp4bQTtb1M?si=y_yC79dUkNveBndR'}),\n",
       " Document(page_content=\"et lui 11e je reconnais ça m'a un peu surpris enfin le top 10 est le suivant Porsche est 10e seat 9e Peugeot 8e Opel 7e Volkswagen 6e Land Rover et Citroën sont 5 et 4e quant au top 3 donc les marques qui se retrouvent dans le plus d'accidents en France il est composé d'Audi qui est vraiment étonné hein Ford est à la seconde position et sans grande surprise pour ma part les voitures qui font le plus n'importe quoi sur les routes en France sont les BMW\", metadata={'source': 'https://youtube.com/shorts/cFp4bQTtb1M?si=y_yC79dUkNveBndR'}),\n",
       " Document(page_content=\"le clip de Shomi what you got il refuse une bouteille de cristal pour qu'on lui apporte à la place une magnifique ace of spates pour ceux qui se demandent le Ace of spates S vendu 300 € la bouteille c'est noté 4,4 sur viivino ce qui en fait un champagne plutôt qualitatif mais clairement overpriced mais comme c'est la bouteille de Jay ça marche depuis que JayZ s'est entiché de l'élixir\", metadata={'source': 'https://youtube.com/shorts/3JOTPH3izlA?si=KXNBMNZ-wz6A7Ktd'})]"
      ]
     },
     "execution_count": 19,
     "metadata": {},
     "output_type": "execute_result"
    }
   ],
   "source": [
    "# query = \"What's new on ios18 ? \"\n",
    "# query = \"Réponds en Français. Tell me about Apple Intelligence.\"\n",
    "# query = \"Have you heard about a way to create custom emojis ?\"\n",
    "#query = \"Do you think that all that AI in our everyday life devices could be harmful ?\"\n",
    "query = \"Peux-tu me donner le top 3 des voitures les plus accidentées en France ?\"\n",
    "\n",
    "\n",
    "# retrieve chunks related to the query\n",
    "vect = vectorstore.similarity_search(query, k=3)\n",
    "vect"
   ]
  },
  {
   "cell_type": "markdown",
   "metadata": {},
   "source": [
    "# 5. My Custom Chatbot"
   ]
  },
  {
   "cell_type": "code",
   "execution_count": 20,
   "metadata": {},
   "outputs": [
    {
     "name": "stderr",
     "output_type": "stream",
     "text": [
      "/home/dup/Documents/Pro/InsideBoardAI/AskYourVideo/.venv/lib/python3.12/site-packages/langchain_core/_api/deprecation.py:139: LangChainDeprecationWarning: The class `OpenAI` was deprecated in LangChain 0.0.10 and will be removed in 0.3.0. An updated version of the class exists in the langchain-openai package and should be used instead. To use it run `pip install -U langchain-openai` and import as `from langchain_openai import OpenAI`.\n",
      "  warn_deprecated(\n"
     ]
    }
   ],
   "source": [
    "from langchain.chains.question_answering import load_qa_chain\n",
    "from langchain.llms import OpenAI\n",
    "\n",
    "# define chain\n",
    "chain = load_qa_chain(\n",
    "    OpenAI(openai_api_key = YOUR_OPENAI_KEY, temperature=0.1),\n",
    "    chain_type=\"stuff\"\n",
    ")"
   ]
  },
  {
   "cell_type": "code",
   "execution_count": 21,
   "metadata": {},
   "outputs": [
    {
     "name": "stderr",
     "output_type": "stream",
     "text": [
      "/home/dup/Documents/Pro/InsideBoardAI/AskYourVideo/.venv/lib/python3.12/site-packages/langchain_core/_api/deprecation.py:139: LangChainDeprecationWarning: The method `Chain.run` was deprecated in langchain 0.1.0 and will be removed in 0.3.0. Use invoke instead.\n",
      "  warn_deprecated(\n",
      "/home/dup/Documents/Pro/InsideBoardAI/AskYourVideo/.venv/lib/python3.12/site-packages/pydantic/main.py:1070: PydanticDeprecatedSince20: The `dict` method is deprecated; use `model_dump` instead. Deprecated in Pydantic V2.0 to be removed in V3.0. See Pydantic V2 Migration Guide at https://errors.pydantic.dev/2.7/migration/\n",
      "  warnings.warn('The `dict` method is deprecated; use `model_dump` instead.', category=PydanticDeprecatedSince20)\n"
     ]
    }
   ],
   "source": [
    "# create answer\n",
    "answer = chain.run(input_documents=vect, question=query)\n",
    "answer"
   ]
  }
 ],
 "metadata": {
  "kernelspec": {
   "display_name": "envAskYourVideo",
   "language": "python",
   "name": ".venv"
  },
  "language_info": {
   "codemirror_mode": {
    "name": "ipython",
    "version": 3
   },
   "file_extension": ".py",
   "mimetype": "text/x-python",
   "name": "python",
   "nbconvert_exporter": "python",
   "pygments_lexer": "ipython3",
   "version": "3.12.3"
  }
 },
 "nbformat": 4,
 "nbformat_minor": 4
}
